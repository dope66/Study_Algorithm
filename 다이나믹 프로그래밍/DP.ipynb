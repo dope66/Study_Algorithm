{
 "cells": [
  {
   "cell_type": "markdown",
   "id": "d6352ba5",
   "metadata": {},
   "source": [
    "### [1463]\n",
    "정수 X에 사용할 수 있는 연산은 다음과 같이 세 가지 이다.\n",
    "\n",
    "1. X가 3으로 나누어 떨어지면, 3으로 나눈다.\n",
    "2. X가 2로 나누어 떨어지면, 2로 나눈다.\n",
    "3. 1을 뺀다.\n",
    "정수 N이 주어졌을 때, 위와 같은 연산 세 개를 적절히 사용해서 1을 만들려고 한다. 연산을 사용하는 횟수의 최솟값을 출력하시오.\n",
    "\n",
    "첫째 줄에 연산을 하는 횟수의 최솟값을 출력한다."
   ]
  },
  {
   "cell_type": "code",
   "execution_count": 16,
   "id": "b737afe2",
   "metadata": {},
   "outputs": [
    {
     "name": "stdout",
     "output_type": "stream",
     "text": [
      "10\n",
      "4\n"
     ]
    }
   ],
   "source": [
    "n= int(input())\n",
    "count = 0\n",
    "while(n!=1):\n",
    "    if(X % 3 ==0):\n",
    "        X = n//3\n",
    "        count+=1\n",
    "    if(X % 2 ==0):\n",
    "        n = n//2\n",
    "        count+=1\n",
    "    n-=1\n",
    "    count+=1\n",
    "    \n",
    "print(count)\n",
    "    \n"
   ]
  },
  {
   "cell_type": "markdown",
   "id": "caf0944c",
   "metadata": {},
   "source": [
    "문제를 잘못 이해했다... 순서대로 사용하는것이 아니다 유동적으로 이용해서 가장 작은 수를 만들어내야한다."
   ]
  },
  {
   "cell_type": "code",
   "execution_count": 17,
   "id": "028b84b6",
   "metadata": {},
   "outputs": [
    {
     "name": "stdout",
     "output_type": "stream",
     "text": [
      "10\n",
      "3\n"
     ]
    }
   ],
   "source": [
    "n = int(input())\n",
    "result = [0]*(n+1)\n",
    "\n",
    "for i in range(2,n+1):\n",
    "    result[i]=result[i-1]+1\n",
    "    if i%3 ==0:\n",
    "        result[i]=min(result[i],result[i//3]+1)\n",
    "    if i%2 ==0:\n",
    "        result[i]=min(result[i],result[i//2]+1)\n",
    "print(result[i])\n",
    "    \n",
    "        "
   ]
  },
  {
   "cell_type": "markdown",
   "id": "3cbbdac4",
   "metadata": {},
   "source": [
    "### [9095] \n",
    "정수 4를 1, 2, 3의 합으로 나타내는 방법은 총 7가지가 있다. 합을 나타낼 때는 수를 1개 이상 사용해야 한다.\n",
    "\n",
    "- 1+1+1+1\n",
    "- 1+1+2\n",
    "- 1+2+1\n",
    "- 2+1+1\n",
    "- 2+2\n",
    "- 1+3\n",
    "- 3+1\n",
    "\n",
    "\n",
    "정수 n이 주어졌을 때, n을 1, 2, 3의 합으로 나타내는 방법의 수를 구하는 프로그램을 작성하시오.\n",
    "\n",
    "\n",
    "첫째 줄에 테스트 케이스의 개수 T가 주어진다. 각 테스트 케이스는 한 줄로 이루어져 있고, 정수 n이 주어진다. n은 양수이며 11보다 작다."
   ]
  },
  {
   "cell_type": "code",
   "execution_count": 3,
   "id": "daf80961",
   "metadata": {},
   "outputs": [
    {
     "name": "stdout",
     "output_type": "stream",
     "text": [
      "3\n",
      "4\n",
      "7\n",
      "7\n",
      "44\n",
      "10\n",
      "274\n"
     ]
    }
   ],
   "source": [
    "T = int(input())\n",
    "# f(n) = f(n-1)+ f(n-2)+f(n-3)\n",
    "def dp(n):\n",
    "    if n ==1:\n",
    "        return 1\n",
    "    elif n ==2:\n",
    "        return 2\n",
    "    elif n==3:\n",
    "        return 4\n",
    "    else:\n",
    "        return dp(n-1)+dp(n-2)+dp(n-3)\n",
    "    \n",
    "\n",
    "\n",
    "for i in range(T):\n",
    "    n= int(input())\n",
    "    print(dp(n))\n",
    "    \n",
    "    \n",
    "    \n",
    "\n",
    "    \n"
   ]
  },
  {
   "cell_type": "code",
   "execution_count": null,
   "id": "5371a4b9",
   "metadata": {},
   "outputs": [],
   "source": []
  },
  {
   "cell_type": "code",
   "execution_count": null,
   "id": "c3a3ac81",
   "metadata": {},
   "outputs": [],
   "source": []
  },
  {
   "cell_type": "code",
   "execution_count": null,
   "id": "ca715dce",
   "metadata": {},
   "outputs": [],
   "source": []
  },
  {
   "cell_type": "code",
   "execution_count": null,
   "id": "8e709b9f",
   "metadata": {},
   "outputs": [],
   "source": []
  },
  {
   "cell_type": "code",
   "execution_count": null,
   "id": "1e61c67c",
   "metadata": {},
   "outputs": [],
   "source": []
  },
  {
   "cell_type": "code",
   "execution_count": null,
   "id": "3b967808",
   "metadata": {},
   "outputs": [],
   "source": []
  }
 ],
 "metadata": {
  "kernelspec": {
   "display_name": "Python 3 (ipykernel)",
   "language": "python",
   "name": "python3"
  },
  "language_info": {
   "codemirror_mode": {
    "name": "ipython",
    "version": 3
   },
   "file_extension": ".py",
   "mimetype": "text/x-python",
   "name": "python",
   "nbconvert_exporter": "python",
   "pygments_lexer": "ipython3",
   "version": "3.8.15"
  }
 },
 "nbformat": 4,
 "nbformat_minor": 5
}
