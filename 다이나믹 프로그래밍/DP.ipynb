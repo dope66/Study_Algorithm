{
 "cells": [
  {
   "cell_type": "markdown",
   "id": "e616b435",
   "metadata": {},
   "source": [
    "### [1463]\n",
    "정수 X에 사용할 수 있는 연산은 다음과 같이 세 가지 이다.\n",
    "\n",
    "1. X가 3으로 나누어 떨어지면, 3으로 나눈다.\n",
    "2. X가 2로 나누어 떨어지면, 2로 나눈다.\n",
    "3. 1을 뺀다.\n",
    "정수 N이 주어졌을 때, 위와 같은 연산 세 개를 적절히 사용해서 1을 만들려고 한다. 연산을 사용하는 횟수의 최솟값을 출력하시오.\n",
    "\n",
    "첫째 줄에 연산을 하는 횟수의 최솟값을 출력한다."
   ]
  },
  {
   "cell_type": "code",
   "execution_count": 16,
   "id": "a0f99629",
   "metadata": {},
   "outputs": [
    {
     "name": "stdout",
     "output_type": "stream",
     "text": [
      "10\n",
      "4\n"
     ]
    }
   ],
   "source": [
    "n= int(input())\n",
    "count = 0\n",
    "while(n!=1):\n",
    "    if(X % 3 ==0):\n",
    "        X = n//3\n",
    "        count+=1\n",
    "    if(X % 2 ==0):\n",
    "        n = n//2\n",
    "        count+=1\n",
    "    n-=1\n",
    "    count+=1\n",
    "    \n",
    "print(count)\n",
    "    \n"
   ]
  },
  {
   "cell_type": "markdown",
   "id": "1c5f846f",
   "metadata": {},
   "source": [
    "문제를 잘못 이해했다... 순서대로 사용하는것이 아니다 유동적으로 이용해서 가장 작은 수를 만들어내야한다."
   ]
  },
  {
   "cell_type": "code",
   "execution_count": null,
   "id": "89981890",
   "metadata": {},
   "outputs": [],
   "source": [
    "n = int(input())\n",
    "result = [0]*(n+1)\n",
    "\n",
    "for i in range(2,n+1):\n",
    "    result[i]=result[i-1]+1\n",
    "    if i%3 ==0:\n",
    "        result[i]=min(result[i],result[i//3]+1)\n",
    "    if i%2 ==0:\n",
    "        result[i]=min(result[i],result[i//2]+1)\n",
    "print(result[i])\n",
    "    \n",
    "        "
   ]
  },
  {
   "cell_type": "code",
   "execution_count": null,
   "id": "a7c69266",
   "metadata": {},
   "outputs": [],
   "source": []
  },
  {
   "cell_type": "code",
   "execution_count": null,
   "id": "0232801b",
   "metadata": {},
   "outputs": [],
   "source": []
  },
  {
   "cell_type": "code",
   "execution_count": null,
   "id": "9c6aa33a",
   "metadata": {},
   "outputs": [],
   "source": []
  }
 ],
 "metadata": {
  "kernelspec": {
   "display_name": "Python 3 (ipykernel)",
   "language": "python",
   "name": "python3"
  },
  "language_info": {
   "codemirror_mode": {
    "name": "ipython",
    "version": 3
   },
   "file_extension": ".py",
   "mimetype": "text/x-python",
   "name": "python",
   "nbconvert_exporter": "python",
   "pygments_lexer": "ipython3",
   "version": "3.8.15"
  }
 },
 "nbformat": 4,
 "nbformat_minor": 5
}
