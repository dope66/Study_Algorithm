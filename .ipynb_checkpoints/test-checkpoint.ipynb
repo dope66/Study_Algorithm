{
 "cells": [
  {
   "cell_type": "markdown",
   "id": "1a0331e1",
   "metadata": {},
   "source": [
    "## 블랙잭"
   ]
  },
  {
   "cell_type": "code",
   "execution_count": 47,
   "id": "d4bdbb85",
   "metadata": {
    "scrolled": true
   },
   "outputs": [
    {
     "name": "stdout",
     "output_type": "stream",
     "text": [
      "5 21\n",
      "5 6 7 8 9\n",
      "21\n"
     ]
    }
   ],
   "source": [
    "\n",
    "n,m = map(int,input().split())\n",
    "arr = list(map(int,input().split()))\n",
    "result =0\n",
    "for i in range(n):\n",
    "    for j in range(i+1,n):\n",
    "        for k in range(j+1,n):\n",
    "            if arr[i]+arr[j]+arr[k]>m:\n",
    "                continue\n",
    "            else:\n",
    "                result = max(result,arr[i]+arr[j]+arr[k])\n",
    "print(result)\n",
    "\n"
   ]
  }
 ],
 "metadata": {
  "kernelspec": {
   "display_name": "Python 3 (ipykernel)",
   "language": "python",
   "name": "python3"
  },
  "language_info": {
   "codemirror_mode": {
    "name": "ipython",
    "version": 3
   },
   "file_extension": ".py",
   "mimetype": "text/x-python",
   "name": "python",
   "nbconvert_exporter": "python",
   "pygments_lexer": "ipython3",
   "version": "3.8.15"
  }
 },
 "nbformat": 4,
 "nbformat_minor": 5
}
